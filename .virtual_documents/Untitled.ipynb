import pandas as pd
import numpy as np 
import re
from konlpy.tag import Kkma
import seaborn as sns
import matplotlib.pyplot as plt
from wordcloud import WordCloud


df = pd.read_csv('./data/news_comment_BTS.csv', encoding = 'UTF-8')


df.info()


df['reply'] = df['reply'].str.replace('[^가-힣]', ' ', regex = True)
df['reply'].head()


kkma = Kkma()


nouns = df['reply'].apply(kkma.nouns)


nouns = nouns.explode()


df_word = pd.DataFrame({'word' : nouns})
df_word['count'] = df_word['word'].str.len()
df_word= df_word.query('count >= 2')


df_word = df_word.groupby('word', as_index = False).agg(n = ('word', 'count')).sort_values('n', ascending = False)
df_word


top20 = df_word.head(20)


plt.rcParams.update({'font.family' : 'Malgun Gothic'})
sns.barplot(data = top20, y = 'word', x = 'n')


import PIL
icon = PIL.Image.open('./data/cloud.png')
img = PIL.Image.new('RGB', icon.size, (255,255,255))
img.paste(icon, icon)
img = np.array(img)


dic_word = df_word.set_index('word').to_dict()['n']
wc = WordCloud(random_state = 1234, font_path = './data/DoHyeon-Regular.ttf', width = 400, height = 400 ,background_color = 'white', mask = img)


img_wordcloud = wc.generate_from_frequencies(dic_word)

plt.figure(figsize = (10, 10))
plt.axis('off')
plt.imshow(img_wordcloud)



