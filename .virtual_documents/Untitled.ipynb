import json
import pandas as pd
import folium


geo = json.load(open('./data/SIG.geojson', encoding = 'UTF-8'))


geo['features'][0]['properties']


df_pop = pd.read_csv('./data/Population_SIG.csv')


df_pop


df_pop['code'] = df_pop['code'].astype(str)


folium.Map(location = [35.95, 127.7],
          zoom_start = 8,
          width = '80%',
          height = '80%')


map_sig = folium.Map(location = [35.95, 127.7],
                    zoom_start = 8,
                    tiles = 'cartodbpositron')
map_sig


folium.Choropleth(
    geo_data = geo,
    data = df_pop,
    columns = ('code', 'pop'),
    key_on = 'feature.properties.SIG_CD').add_to(map_sig)



bins = list(df_pop['pop'].quantile([0,0.2,0.4, 0.6, 0.8,1]))
bins


map_sig = folium.Map(location = [35.95, 127.7],
                    zoom_start = 8,
                    tiles = 'cartodbpositron')


folium.Choropleth(
    geo_data = geo,
    data = df_pop,
    columns = ('code', 'pop'),
    key_on = 'feature.properties.SIG_CD',
    fill_color = 'YlGnBu',
    fill_opacity = 1,
    line_opacity = 0.5,
    bins = bins
).add_to(map_sig)

map_sig



