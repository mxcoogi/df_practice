import pandas as pd
import numpy as np


data = pd.read_csv("./data/midwest.csv")


data


data = data.assign(poppercent = (data['poptotal'] - data['popadults']) / data['poptotal'])
data.head()


data.sort_values('poppercent', ascending = False).head()


data = data.assign(classification = 
                   np.where(data['poppercent'] >= 0.4, 'large',
    np.where(data['poppercent']>= 0.3, 'middle', 'small')
))


data.value_counts('classification')


data.assign(asianpercent = data['popasian'] / data['poptotal']).sort_values('asianpercent')[['state', 'county', 'asianpercent']].head(10)



