import pandas as pd
import numpy as np
import seaborn as sns


data = pd.read_csv('./data/economics.csv')


data


sns.lineplot(data = data, x = 'date', y = 'unemploy')


data['date2'] = pd.to_datetime(data['date'])
data.info()


data['year'] = data['date2'].dt.year


sns.lineplot(data = data, x = 'year', y = 'unemploy', errorbar=None)


sns.lineplot(data = data, x = 'year', y = 'psavert')


df_2014 = data.query('year == 2014')
df_2014['month'] = df_2014['date2'].dt.month
sns.lineplot(data = df_2014, x = df_2014['month'], y = df_2014['psavert'], errorbar = None)



