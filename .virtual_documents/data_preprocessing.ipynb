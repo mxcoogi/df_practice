import pandas as pd
import numpy as np


exam = pd.read_csv('./data/exam.csv')


exam.head()


exam.query('nclass == 1')


exam.query('math > 50')


exam.query('nclass == 1 & math >= 50')


exam.query('nclass == 1 | english >= 90')


exam.query('nclass in [1, 2, 4]')


nclass1 = exam.query('nclass == 1')
nclass2 = exam.query('nclass == 2')


nclass1['math'].mean()
nclass2['math'].mean()


var = 3
exam.query('nclass == @var')


exam[['nclass', 'math']].head()


exam.drop(columns='math')


exam.drop(columns = ['english', 'nclass'])


exam.query('nclass == 1')['english']


exam.query('math >= 50')[['id', 'math']]


exam.sort_values(['math', 'nclass'])


exam.assign(total = exam['math'] + exam['english'] + exam['science'], 
           mean= (exam['math'] + exam['english'] + exam['science']) / 3)


exam.assign(test = np.where(exam['science'] >= 60, 'pass', 'fail'))





exam.agg(mean_math = ('math', 'mean'))


exam.groupby('nclass', as_index = False) \
    .agg(mean_math = ('math', 'mean'))


exam.groupby('nclass', as_index = False) \
    .agg(mean_math = ('math', 'mean'),
         sub_math = ('math', 'sum'),
         median_math = ('math', 'median'),
         n = ('nclass', 'count'))


exam.groupby('nclass').mean()



