import pandas as pd
import numpy as np


mpg = pd.read_csv('./data/mpg.csv')


mpg


nmpg = mpg.copy()


mpg['total'] = (mpg['cty'] + mpg['hwy']) / 2
mpg.head()


mpg['total'].describe()


mpg['total'].plot.hist()





mpg['test'] = np.where(mpg['total'] >= 20, "pass", "fail")
mpg.head()


count_test = mpg['test'].value_counts()


count_test.plot.bar(rot = 0)


mpg['Grade'] = np.where(mpg['total'] >= 30, 'A',
                       np.where(mpg['total'] >= 20, 'B', 'C'))


mpg.head()


count_grade = mpg['Grade'].value_counts().sort_index()
count_grade


count_grade.plot.bar(rot = 0)


mpg


df = mpg[['category', 'cty']]


suv_cty = df.query('category == "suv"')['cty'].mean()
compact_cty = df.query('category == "compact"')['cty'].mean()


mpg_audi = mpg.query('manufacturer == "audi"')


mpg_audi


mpg_audi.sort_values('hwy', ascending = False).head()


total_mpg = mpg.copy().assign(total = mpg['cty'] + mpg['hwy'],
                             mean = lambda x : (x['total'] / 2)).sort_values('mean', ascending = False).head(3)


total_mpg


mpg.groupby(['manufacturer', 'drv']).agg(mean_cty = ('cty', 'mean'))


mpg.query('manufacturer == "audi"').groupby('drv').agg(n = ('cty', 'count'))


mpg[mpg['manufacturer'] == 'audi']['drv'].value_counts()


mpg['category'].value_counts()


mpg.query('category == "suv"')\
    .assign(total = lambda x : x['cty'] + x['hwy'])\
    .groupby('manufacturer')\
    .agg(mean = ('total', 'mean'))\
    .sort_values('mean', ascending = False)\
    .head()


mpg.groupby('category').agg(mean_cty = ('cty', 'mean')).sort_values('mean_cty', ascending = False)


mpg.groupby('manufacturer').agg(mean_hwy = ('hwy', 'mean')).sort_values('mean_hwy', ascending = False).head(3)


mpg.query('category == "compact"').groupby('manufacturer').agg(n = ('manufacturer', 'count')).sort_values('n', ascending = False)


mpg


fuel = pd.DataFrame(
    {'fl' : ['c', 'd', 'e', 'p', 'r'],
     'price_fl' : [2.35, 2.38, 2.11, 2.76, 2.22]}
)
fuel


pd.merge(mpg, fuel, how = 'left', on = 'fl')


pd.merge(mpg, fuel, how = 'left', on = 'fl')[['model', 'fl', 'price_fl']].head()


mpg.loc[[64,123,130,152,211], 'hwy'] = np.nan


pd.isna(mpg[['drv', 'hwy']]).sum()


mpg.dropna().groupby('drv').agg(hwy_mean =  ('hwy', 'mean'))


import seaborn as sns


sns.boxplot(data = mpg, y = 'hwy')


pct25 = mpg['hwy'].quantile(.25)
pct75 = mpg['hwy'].quantile(.75)
pct25, pct75


iqr = pct75 - pct25
iqr


pct25 - 1.5*iqr


pct75 + 1.5*iqr


mpg['hwy'] = np.where((mpg['hwy'] < 4.5) | (mpg['hwy'] > 40.5), 
                      np.nan, mpg['hwy'])


mpg['hwy'].isna().sum()


mpg.dropna(subset = ['hwy'])\
    .groupby('drv')\
    .agg(mean_hwy = ('hwy', 'mean'))


nmpg.loc[[9,13,57,92], 'drv'] = 'k'
nmpg.loc[[28,42,128,202], 'cty'] = [3,4,39,42]


nmpg['drv'].value_counts()


nmpg['drv'] = np.where(nmpg['drv'].isin(['f', '4', 'r']), nmpg['drv'], np.nan)


sns.boxplot(data = nmpg, y= 'cty')


pct25=nmpg['cty'].quantile(.25)
pct75= nmpg['cty'].quantile(.75)


iqr = pct75 - pct25
high = pct75 + iqr*1.5
low = pct25 - iqr*1.5


nmpg['cty'] = np.where((nmpg['cty'] > high) | (nmpg['cty'] < low) , np.nan, nmpg['cty'])


sns.boxplot(data = nmpg, y= 'cty')


nmpg.dropna(subset = ['cty', 'drv']).groupby('drv').agg(cty_mean = ('cty', 'mean'))


mpg


sns.scatterplot(data = mpg, x = 'displ', y = 'hwy').set(xlim = (3, 6), ylim = (10 , 30))


sns.scatterplot(data = mpg, x = 'displ' , y = 'hwy', hue = 'drv')


sns.scatterplot(data = mpg, x = 'cty', y = 'hwy')


df_mpg = mpg.groupby('drv', as_index = False)\
    .agg(hwy_mean = ('hwy', 'mean'))


df_mpg


sns.barplot(data = df_mpg.sort_values('hwy_mean', ascending = False), x = 'drv', y = 'hwy_mean')


df_mpg = mpg.groupby('drv', as_index = False).agg(n = ('drv', 'count'))


sns.barplot(data = df_mpg, x = 'drv', y = 'n')


sns.countplot(data = mpg, x = 'drv')


mpg['drv'].unique()


df_mpg['drv'].unique()


sns.countplot(data = mpg, x= 'drv', order = mpg['drv'].value_counts().index)


mpg.query('category == "suv"').groupby('manufacturer', as_index = False).agg(cty_mean = ('cty', 'mean')).sort_values('cty_mean').head()


sns.barplot(data = mpg.query('category == "suv"').groupby('manufacturer', as_index = False).agg(cty_mean = ('cty', 'mean')).sort_values('cty_mean', ascending = False).head(), x = 'manufacturer', y = 'cty_mean')


mpg.groupby('category', as_index = False).agg(n = ('category', 'count')).sort_values('n', ascending = False)


sns.barplot(data = mpg.groupby('category', as_index = False).agg(n = ('category', 'count')).sort_values('n', ascending = False), x = 'category', y = 'n')


sns.boxplot(data = mpg , x = 'drv', y = 'hwy')


new_mpg = mpg.query('category == ["compact", "subcompact", "suv"]')
sns.boxplot(data = new_mpg, x = 'category', y = 'cty')



