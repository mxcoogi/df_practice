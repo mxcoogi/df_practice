import pandas as pd
import numpy as np


mpg = pd.read_csv('./data/mpg.csv')


mpg


mpg['total'] = (mpg['cty'] + mpg['hwy']) / 2
mpg.head()


mpg['total'].describe()


mpg['total'].plot.hist()





mpg['test'] = np.where(mpg['total'] >= 20, "pass", "fail")
mpg.head()


count_test = mpg['test'].value_counts()


count_test.plot.bar(rot = 0)


mpg['Grade'] = np.where(mpg['total'] >= 30, 'A',
                       np.where(mpg['total'] >= 20, 'B', 'C'))


mpg.head()


count_grade = mpg['Grade'].value_counts().sort_index()
count_grade


count_grade.plot.bar(rot = 0)


mpg


df = mpg[['category', 'cty']]


suv_cty = df.query('category == "suv"')['cty'].mean()
compact_cty = df.query('category == "compact"')['cty'].mean()


mpg_audi = mpg.query('manufacturer == "audi"')


mpg_audi


mpg_audi.sort_values('hwy', ascending = False).head()


total_mpg = mpg.copy().assign(total = mpg['cty'] + mpg['hwy'],
                             mean = lambda x : (x['total'] / 2)).sort_values('mean', ascending = False).head(3)


total_mpg


mpg.groupby(['manufacturer', 'drv']).agg(mean_cty = ('cty', 'mean'))


mpg.query('manufacturer == "audi"').groupby('drv').agg(n = ('cty', 'count'))


mpg[mpg['manufacturer'] == 'audi']['drv'].value_counts()


mpg['category'].value_counts()


mpg.query('category == "suv"')\
    .assign(total = lambda x : x['cty'] + x['hwy'])\
    .groupby('manufacturer')\
    .agg(mean = ('total', 'mean'))\
    .sort_values('mean', ascending = False)\
    .head()


mpg.groupby('category').agg(mean_cty = ('cty', 'mean')).sort_values('mean_cty', ascending = False)


mpg.groupby('manufacturer').agg(mean_hwy = ('hwy', 'mean')).sort_values('mean_hwy', ascending = False).head(3)


mpg.query('category == "compact"').groupby('manufacturer').agg(n = ('manufacturer', 'count')).sort_values('n', ascending = False)


mpg


fuel = pd.DataFrame(
    {'f1' : ['c', 'd', 'e', 'p', 'r'],
     'price_f1' : [2.35, 2.38, 2.11, 2.76, 2.22]}
)
fuel


pd.merge(mpg, fuel)
