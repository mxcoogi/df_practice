import pandas as pd
import numpy as np
import re
from konlpy.tag import Hannanum


moon = open('./data/speech_moon.txt', encoding = 'UTF-8').read()


moon = re.sub('[^가-힣]', ' ', moon)


hannanum = Hannanum()


nouns = hannanum.nouns(moon)


df_word = pd.DataFrame({'word' : nouns})


df_word


df_word['count'] = df_word['word'].str.len()


df_word = df_word.query('count >= 2')
df_word.sort_values('count')


df_word = df_word.groupby('word', as_index = False)\
    .agg(n = ('word', 'count'))\
    .sort_values('n', ascending = False)
df_word


top20 = df_word.head(20)
top20


import seaborn as sns
import matplotlib.pyplot as plt


plt.rcParams.update({'font.family' : 'Malgun Gothic'})

sns.barplot(data = top20, y = 'word', x = 'n')


font = './data/DoHyeon-Regular.ttf'


dic_word = df_word.set_index('word').to_dict()['n']


from wordcloud import WordCloud


wc = WordCloud(random_state = 1234, font_path = font, width = 400, height = 400, background_color = 'white')


img_wordcloud = wc.generate_from_frequencies(dic_word)
plt.figure(figsize = (10, 10))
plt.axis('off')
plt.imshow(img_wordcloud)


import PIL
icon = PIL.Image.open('./data/cloud.png')


img = PIL.Image.new('RGB', icon.size, (255,255,255))
img.paste(icon, icon)
img = np.array(img)


wc = WordCloud(random_state = 1234, font_path = font, width = 400, height = 400, background_color = 'white', mask = img, colormap = 'inferno')


img_wordcloud = wc.generate_from_frequencies(dic_word)

plt.figure(figsize = (10, 10))
plt.axis('off')
plt.imshow(img_wordcloud)



