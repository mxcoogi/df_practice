import pandas as pd 
import numpy as np
import seaborn as sns


raw_welfare = pd.read_spss('./data/Koweps_hpwc14_2019_beta2.sav')


welfare = raw_welfare.copy()


welfare = welfare.rename(
    columns = {
        'h14_g3' : 'sex',
        'h14_g4' : 'birth',
        'h14_g10' : 'marriage_type',
        'h14_g11' : 'religon',
        'p1402_8aq1' : 'income',
        'h14_eco9' : 'code_job',
        'h14_reg7' : 'code_region'
    }
)





welfare['sex'].dtypes


welfare['sex'].value_counts()


welfare['sex'] = np.where(welfare['sex'] == 9, np.nan, welfare['sex'])
welfare['sex'].isna().sum()


welfare['sex'] = np.where(welfare['sex'] == 1, 'male', 'female')
welfare['sex'].value_counts()


sns.countplot(data = welfare, x = 'sex')


welfare['income'].dtypes


welfare['income'].describe()


sns.histplot(data = welfare, x = 'income')


welfare['income'].isna().sum()


welfare['income'] = np.where(welfare['income'] == 9999, np.nan, welfare['income'])
welfare['income'].isna().sum()


sex_income = welfare.dropna(subset = ['income'])\
    .groupby('sex', as_index = False)\
    .agg(mean_income = ('income', 'mean'))

sex_income


sns.barplot(data = sex_income, x = 'sex', y = 'mean_income')





welfare['birth'].dtypes


welfare['birth'].describe()


sns.histplot(data = welfare, x = 'birth')


welfare['birth'] = np.where(welfare['birth'] == 9999, np.nan, welfare['birth'])


welfare['birth'].isna().sum()


welfare = welfare.assign(age = 2019 - welfare['birth'] + 1)
welfare['age'].describe()


sns.histplot(data = welfare, x = 'age')


age_income = welfare.dropna(subset=['income'])\
    .groupby('age', as_index = False)\
    .agg(mean_income =('income', 'mean'))
age_income


sns.lineplot(data = age_income, x = 'age', y = 'mean_income')





welfare['age'].head()


welfare = welfare.assign(ageg = np.where(welfare['age'] < 30, 'young', 
                                        np.where(welfare['age'] <= 59, 'middle', 'old')))


sns.countplot(data = welfare, x = 'ageg')


ageg_income = welfare.dropna(subset = ['income'])\
    .groupby('ageg', as_index = False)\
    .agg(ageg_income = ('income', 'mean'))


ageg_income


sns.barplot(data = ageg_income, x = 'ageg', y = 'ageg_income')


sns.barplot(data = ageg_income, x = 'ageg', y = 'ageg_income', order = ['young', 'middle', 'old'])


sex_income = \
    welfare.dropna(subset = ['income'])\
    .groupby(['ageg', 'sex'], as_index = False)\
    .agg(mean_income = ('income', 'mean'))


sns.barplot(data = sex_income, x = 'ageg', y = 'mean_income', hue = 'sex', order = ['young', 'middle', 'old'])


sex_age = welfare.dropna(subset = 'income')\
    .groupby(['age', 'sex'], as_index = False)\
    .agg(mean_income = ('income', 'mean'))
sex_age


sns.lineplot(data = sex_age, x = 'age', y = 'mean_income', hue = 'sex')





welfare['code_job'].dtype


welfare['code_job'].value_counts()


list_job = pd.read_excel('./data/Koweps_Codebook_2019.xlsx', sheet_name = '직종코드')
list_job


welfare = welfare.merge(list_job, how= 'left', on = 'code_job')


welfare.dropna(subset = ['code_job'])[['code_job', 'job']].head()


job_income = welfare.dropna(subset = ['income'])\
    .groupby('job', as_index = False)\
    .agg(mean_income = ('income', 'mean'))


top10 = job_income.sort_values('mean_income', ascending = False)
top10


import matplotlib.pyplot as plt
plt.rcParams.update({'font.family' : 'Malgun Gothic'})


sns.barplot(data = top10.head(10), y = 'job', x = 'mean_income')


bottom10 = job_income.sort_values('mean_income').head(10)


sns.barplot(data = bottom10, y = 'job', x = 'mean_income').set(xlim = (0, 800))





job_male = welfare.dropna(subset = ['job'])\
    .query('sex == "male"')\
    .groupby('job', as_index = False)\
    .agg(n = ('job', 'count'))\
    .sort_values('n', ascending = False)\
    .head(10)

job_male


job_female = welfare.dropna(subset = ['job'])\
    .query('sex == "female"')\
    .groupby('job', as_index = False)\
    .agg(n = ('job', 'count'))\
    .sort_values('n', ascending = False)\
    .head(10)

job_female


sns.barplot(data = job_male, y = 'job', x = 'n').set(xlim = (0, 500))


sns.barplot(data = job_female, y = 'job', x = 'n').set(xlim = (0, 500))





welfare['religon'].dtypes


welfare['religon'] = np.where(welfare['religon'] == 1, 'yes', 'no')
welfare['religon'].value_counts()


sns.countplot(data = welfare , x = 'religon')


welfare['marriage_type'].dtypes


welfare['marriage_type'].value_counts()


welfare['marriage'] = np.where(welfare['marriage_type'] == 1, 'marriage',
                             np.where(welfare['marriage_type'] == 3, 'divorce', 'etc'))



n_divorce = welfare.groupby('marriage', as_index = False).agg(n = ('marriage', 'count'))
n_divorce


sns.barplot(data = n_divorce, x = 'marriage', y = 'n')


rel_div = welfare.query('marriage != "etc"')\
    .groupby('religon', as_index = False)\
    ['marriage']\
    .value_counts(normalize=True)
rel_div


rel_div = rel_div.query('marriage == "divorce"')\
    .assign(proportion = rel_div['proportion'] * 100)\
    .round(1)
rel_div


sns.barplot(data = rel_div, x = 'religon', y = 'proportion')





age_div = welfare.query('marriage != "etc"')\
    .groupby('ageg', as_index = False)\
    ['marriage']\
    .value_counts(normalize = True)

age_div


age_div = age_div.query('ageg != "young" & marriage == "divorce"')\
    .assign(proportion = age_div['proportion'] * 100)\
    .round(1)

age_div


sns.barplot(data = age_div, x = "ageg", y = "proportion")


age_rel_div = welfare.query("marriage != 'etc' & ageg != 'young'")\
    .groupby(['ageg', 'religon'], as_index = False)\
    ['marriage']\
    .value_counts(normalize = True)

age_rel_div


age_rel_div = \
    age_rel_div.query('marriage == "divorce"')\
    .assign(proportion = age_rel_div['proportion'] * 100)\
    .round(1)

age_rel_div


sns.barplot(data = age_rel_div, x = 'ageg' , y = 'proportion', hue = 'religon')





welfare['code_region'].dtypes


welfare['code_region'].value_counts()


list_region = pd.DataFrame(
    {
        'code_region' : [1,2,3,4,5,6,7],
        'region' : [
            '서울',
            '수도권',
            '부산/경남/울산',
            '대구/경북',
            '대전/충남',
            '강원/충북',
            '광주/전남/전북/제주도'
        ]
    }
)

list_region


welfare = welfare.merge(list_region, how = 'left', on = 'code_region')


welfare[['code_region', 'region']].head()


region_age = welfare.groupby('region', as_index = False)\
    ['ageg']\
    .value_counts(normalize = True)


region_age


region_age = region_age.assign(proportion = region_age['proportion'] * 100).round(1)

region_age


sns.barplot(data = region_age, y = 'region', x = 'proportion', hue = 'ageg')


pivot_df = region_age[['region', 'ageg', 'proportion']].pivot(index = 'region', columns = 'ageg', values = 'proportion')

pivot_df


pivot_df.plot.barh(stacked = True)


reorder_df = pivot_df.sort_values('old')[['young', 'middle', 'old']]
reorder_df


reorder_df.plot.barh(stacked = True)



